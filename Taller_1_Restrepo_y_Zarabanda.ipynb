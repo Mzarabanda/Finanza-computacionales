{
  "nbformat": 4,
  "nbformat_minor": 0,
  "metadata": {
    "colab": {
      "provenance": []
    },
    "kernelspec": {
      "name": "python3",
      "display_name": "Python 3"
    },
    "language_info": {
      "name": "python"
    }
  },
  "cells": [
    {
      "cell_type": "code",
      "execution_count": 18,
      "metadata": {
        "id": "l12YsfVDVzRZ"
      },
      "outputs": [],
      "source": [
        "import pandas as pd\n",
        "import pandas_datareader.data as pdr\n",
        "import numpy as np\n",
        "from scipy import stats\n",
        "from matplotlib import pyplot as plt\n",
        "!pip install --quiet yfinance \n",
        "import yfinance as yf\n"
      ]
    },
    {
      "cell_type": "markdown",
      "source": [
        "# Punto 1"
      ],
      "metadata": {
        "id": "s9lOCMnhpiEc"
      }
    },
    {
      "cell_type": "code",
      "source": [
        "activos = [\"EA\", \"DIS\"]\n",
        "yf.pdr_override()\n",
        "precios = pdr.get_data_yahoo(activos,start=\"2021-01-01\",end=\"2022-12-31\")[\"Adj Close\"]\n",
        "preciosm = pdr.get_data_yahoo(activos,start=\"2021-01-01\",end=\"2022-12-31\", interval= \"1Mo\")[\"Adj Close\"]"
      ],
      "metadata": {
        "id": "SLxZSLdiV1Wh",
        "colab": {
          "base_uri": "https://localhost:8080/"
        },
        "outputId": "8284dec0-e050-434b-ad08-c6e7f99354a5"
      },
      "execution_count": 19,
      "outputs": [
        {
          "output_type": "stream",
          "name": "stdout",
          "text": [
            "[*********************100%***********************]  2 of 2 completed\n",
            "[*********************100%***********************]  2 of 2 completed\n"
          ]
        }
      ]
    },
    {
      "cell_type": "code",
      "source": [
        "retornos_d = np.log(precios).diff().dropna()\n",
        "retornos_m = np.log(preciosm).diff().dropna()\n",
        "retornos_y = (retornos_d.mean())*np.sqrt(252)\n",
        "(retornos_d,retornos_m, retornos_y)"
      ],
      "metadata": {
        "colab": {
          "base_uri": "https://localhost:8080/"
        },
        "id": "s0XhcRtFuDaS",
        "outputId": "99210b14-c00c-4442-97ab-fbf3f3b44f46"
      },
      "execution_count": 20,
      "outputs": [
        {
          "output_type": "execute_result",
          "data": {
            "text/plain": [
              "(                 DIS        EA\n",
              " Date                          \n",
              " 2021-01-05  0.004268  0.012891\n",
              " 2021-01-06  0.003804 -0.032507\n",
              " 2021-01-07 -0.003019  0.028394\n",
              " 2021-01-08  0.000616  0.007926\n",
              " 2021-01-11  0.002236 -0.004522\n",
              " ...              ...       ...\n",
              " 2022-12-23  0.015343  0.000741\n",
              " 2022-12-27 -0.018810 -0.005695\n",
              " 2022-12-28 -0.025802 -0.010651\n",
              " 2022-12-29  0.035136  0.021926\n",
              " 2022-12-30 -0.003447 -0.000082\n",
              " \n",
              " [502 rows x 2 columns],                  DIS        EA\n",
              " Date                          \n",
              " 2021-02-01  0.116983 -0.066626\n",
              " 2021-03-01 -0.024201  0.010396\n",
              " 2021-04-01  0.008096  0.049618\n",
              " 2021-05-01 -0.040426  0.005965\n",
              " 2021-06-01 -0.016252  0.006277\n",
              " 2021-07-01  0.001421  0.002093\n",
              " 2021-08-01  0.029555  0.008646\n",
              " 2021-09-01 -0.069249 -0.019408\n",
              " 2021-10-01 -0.000591 -0.014160\n",
              " 2021-11-01 -0.154269 -0.121372\n",
              " 2021-12-01  0.066671  0.059990\n",
              " 2022-01-01 -0.080080  0.007092\n",
              " 2022-02-01  0.037681 -0.019563\n",
              " 2022-03-01 -0.079167 -0.027905\n",
              " 2022-04-01 -0.205958 -0.067866\n",
              " 2022-05-01 -0.010717  0.160844\n",
              " 2022-06-01 -0.156931 -0.130805\n",
              " 2022-07-01  0.116841  0.077158\n",
              " 2022-08-01  0.054831 -0.033789\n",
              " 2022-09-01 -0.172414 -0.090609\n",
              " 2022-10-01  0.121721  0.084877\n",
              " 2022-11-01 -0.084880  0.037552\n",
              " 2022-12-01 -0.119112 -0.066540, DIS   -0.022625\n",
              " EA    -0.003859\n",
              " dtype: float64)"
            ]
          },
          "metadata": {},
          "execution_count": 20
        }
      ]
    },
    {
      "cell_type": "code",
      "source": [
        "sigmad = retornos_d.std()\n",
        "sigmam = retornos_m.std()\n",
        "sigmay = sigmad*np.sqrt(252)\n",
        "sigmad,sigmam,sigmay"
      ],
      "metadata": {
        "colab": {
          "base_uri": "https://localhost:8080/"
        },
        "id": "gXHZ-IiFNOow",
        "outputId": "95169aa8-f100-4de5-c2c9-b102824690ff"
      },
      "execution_count": 21,
      "outputs": [
        {
          "output_type": "execute_result",
          "data": {
            "text/plain": [
              "(DIS    0.019992\n",
              " EA     0.016116\n",
              " dtype: float64, DIS    0.094156\n",
              " EA     0.068178\n",
              " dtype: float64, DIS    0.317359\n",
              " EA     0.255832\n",
              " dtype: float64)"
            ]
          },
          "metadata": {},
          "execution_count": 21
        }
      ]
    },
    {
      "cell_type": "code",
      "source": [
        "precios.describe()"
      ],
      "metadata": {
        "colab": {
          "base_uri": "https://localhost:8080/",
          "height": 300
        },
        "id": "f-OfHllcqGj5",
        "outputId": "e577dfe1-03a0-437b-f6d8-d1152342a1cc"
      },
      "execution_count": 22,
      "outputs": [
        {
          "output_type": "execute_result",
          "data": {
            "text/plain": [
              "              DIS          EA\n",
              "count  503.000000  503.000000\n",
              "mean   145.214851  132.344439\n",
              "std     34.962709    7.745425\n",
              "min     84.169998  111.120789\n",
              "25%    107.975002  126.106525\n",
              "50%    151.339996  131.753418\n",
              "75%    176.879997  139.611191\n",
              "max    201.910004  147.397232"
            ],
            "text/html": [
              "\n",
              "  <div id=\"df-1d3e13d9-94f7-4ee3-ba6d-e96a717d99a4\">\n",
              "    <div class=\"colab-df-container\">\n",
              "      <div>\n",
              "<style scoped>\n",
              "    .dataframe tbody tr th:only-of-type {\n",
              "        vertical-align: middle;\n",
              "    }\n",
              "\n",
              "    .dataframe tbody tr th {\n",
              "        vertical-align: top;\n",
              "    }\n",
              "\n",
              "    .dataframe thead th {\n",
              "        text-align: right;\n",
              "    }\n",
              "</style>\n",
              "<table border=\"1\" class=\"dataframe\">\n",
              "  <thead>\n",
              "    <tr style=\"text-align: right;\">\n",
              "      <th></th>\n",
              "      <th>DIS</th>\n",
              "      <th>EA</th>\n",
              "    </tr>\n",
              "  </thead>\n",
              "  <tbody>\n",
              "    <tr>\n",
              "      <th>count</th>\n",
              "      <td>503.000000</td>\n",
              "      <td>503.000000</td>\n",
              "    </tr>\n",
              "    <tr>\n",
              "      <th>mean</th>\n",
              "      <td>145.214851</td>\n",
              "      <td>132.344439</td>\n",
              "    </tr>\n",
              "    <tr>\n",
              "      <th>std</th>\n",
              "      <td>34.962709</td>\n",
              "      <td>7.745425</td>\n",
              "    </tr>\n",
              "    <tr>\n",
              "      <th>min</th>\n",
              "      <td>84.169998</td>\n",
              "      <td>111.120789</td>\n",
              "    </tr>\n",
              "    <tr>\n",
              "      <th>25%</th>\n",
              "      <td>107.975002</td>\n",
              "      <td>126.106525</td>\n",
              "    </tr>\n",
              "    <tr>\n",
              "      <th>50%</th>\n",
              "      <td>151.339996</td>\n",
              "      <td>131.753418</td>\n",
              "    </tr>\n",
              "    <tr>\n",
              "      <th>75%</th>\n",
              "      <td>176.879997</td>\n",
              "      <td>139.611191</td>\n",
              "    </tr>\n",
              "    <tr>\n",
              "      <th>max</th>\n",
              "      <td>201.910004</td>\n",
              "      <td>147.397232</td>\n",
              "    </tr>\n",
              "  </tbody>\n",
              "</table>\n",
              "</div>\n",
              "      <button class=\"colab-df-convert\" onclick=\"convertToInteractive('df-1d3e13d9-94f7-4ee3-ba6d-e96a717d99a4')\"\n",
              "              title=\"Convert this dataframe to an interactive table.\"\n",
              "              style=\"display:none;\">\n",
              "        \n",
              "  <svg xmlns=\"http://www.w3.org/2000/svg\" height=\"24px\"viewBox=\"0 0 24 24\"\n",
              "       width=\"24px\">\n",
              "    <path d=\"M0 0h24v24H0V0z\" fill=\"none\"/>\n",
              "    <path d=\"M18.56 5.44l.94 2.06.94-2.06 2.06-.94-2.06-.94-.94-2.06-.94 2.06-2.06.94zm-11 1L8.5 8.5l.94-2.06 2.06-.94-2.06-.94L8.5 2.5l-.94 2.06-2.06.94zm10 10l.94 2.06.94-2.06 2.06-.94-2.06-.94-.94-2.06-.94 2.06-2.06.94z\"/><path d=\"M17.41 7.96l-1.37-1.37c-.4-.4-.92-.59-1.43-.59-.52 0-1.04.2-1.43.59L10.3 9.45l-7.72 7.72c-.78.78-.78 2.05 0 2.83L4 21.41c.39.39.9.59 1.41.59.51 0 1.02-.2 1.41-.59l7.78-7.78 2.81-2.81c.8-.78.8-2.07 0-2.86zM5.41 20L4 18.59l7.72-7.72 1.47 1.35L5.41 20z\"/>\n",
              "  </svg>\n",
              "      </button>\n",
              "      \n",
              "  <style>\n",
              "    .colab-df-container {\n",
              "      display:flex;\n",
              "      flex-wrap:wrap;\n",
              "      gap: 12px;\n",
              "    }\n",
              "\n",
              "    .colab-df-convert {\n",
              "      background-color: #E8F0FE;\n",
              "      border: none;\n",
              "      border-radius: 50%;\n",
              "      cursor: pointer;\n",
              "      display: none;\n",
              "      fill: #1967D2;\n",
              "      height: 32px;\n",
              "      padding: 0 0 0 0;\n",
              "      width: 32px;\n",
              "    }\n",
              "\n",
              "    .colab-df-convert:hover {\n",
              "      background-color: #E2EBFA;\n",
              "      box-shadow: 0px 1px 2px rgba(60, 64, 67, 0.3), 0px 1px 3px 1px rgba(60, 64, 67, 0.15);\n",
              "      fill: #174EA6;\n",
              "    }\n",
              "\n",
              "    [theme=dark] .colab-df-convert {\n",
              "      background-color: #3B4455;\n",
              "      fill: #D2E3FC;\n",
              "    }\n",
              "\n",
              "    [theme=dark] .colab-df-convert:hover {\n",
              "      background-color: #434B5C;\n",
              "      box-shadow: 0px 1px 3px 1px rgba(0, 0, 0, 0.15);\n",
              "      filter: drop-shadow(0px 1px 2px rgba(0, 0, 0, 0.3));\n",
              "      fill: #FFFFFF;\n",
              "    }\n",
              "  </style>\n",
              "\n",
              "      <script>\n",
              "        const buttonEl =\n",
              "          document.querySelector('#df-1d3e13d9-94f7-4ee3-ba6d-e96a717d99a4 button.colab-df-convert');\n",
              "        buttonEl.style.display =\n",
              "          google.colab.kernel.accessAllowed ? 'block' : 'none';\n",
              "\n",
              "        async function convertToInteractive(key) {\n",
              "          const element = document.querySelector('#df-1d3e13d9-94f7-4ee3-ba6d-e96a717d99a4');\n",
              "          const dataTable =\n",
              "            await google.colab.kernel.invokeFunction('convertToInteractive',\n",
              "                                                     [key], {});\n",
              "          if (!dataTable) return;\n",
              "\n",
              "          const docLinkHtml = 'Like what you see? Visit the ' +\n",
              "            '<a target=\"_blank\" href=https://colab.research.google.com/notebooks/data_table.ipynb>data table notebook</a>'\n",
              "            + ' to learn more about interactive tables.';\n",
              "          element.innerHTML = '';\n",
              "          dataTable['output_type'] = 'display_data';\n",
              "          await google.colab.output.renderOutput(dataTable, element);\n",
              "          const docLink = document.createElement('div');\n",
              "          docLink.innerHTML = docLinkHtml;\n",
              "          element.appendChild(docLink);\n",
              "        }\n",
              "      </script>\n",
              "    </div>\n",
              "  </div>\n",
              "  "
            ]
          },
          "metadata": {},
          "execution_count": 22
        }
      ]
    },
    {
      "cell_type": "code",
      "source": [
        "retornos_m['EA'].corr(retornos_m['DIS'],method=\"pearson\")"
      ],
      "metadata": {
        "colab": {
          "base_uri": "https://localhost:8080/"
        },
        "id": "tZFkYCzEqkA9",
        "outputId": "958a8d45-b403-4c41-a06d-d6dc00014443"
      },
      "execution_count": 23,
      "outputs": [
        {
          "output_type": "execute_result",
          "data": {
            "text/plain": [
              "0.5921896856544769"
            ]
          },
          "metadata": {},
          "execution_count": 23
        }
      ]
    },
    {
      "cell_type": "code",
      "source": [
        "retornos_m['EA'].corr(retornos_m['DIS'], method='kendall')"
      ],
      "metadata": {
        "colab": {
          "base_uri": "https://localhost:8080/"
        },
        "id": "W0wgani4rSor",
        "outputId": "6c8c9281-b12f-4345-bbbd-6eb2e9cced11"
      },
      "execution_count": 24,
      "outputs": [
        {
          "output_type": "execute_result",
          "data": {
            "text/plain": [
              "0.391304347826087"
            ]
          },
          "metadata": {},
          "execution_count": 24
        }
      ]
    },
    {
      "cell_type": "code",
      "source": [
        "retornos_m['EA'].corr(retornos_m['DIS'], method='spearman')"
      ],
      "metadata": {
        "colab": {
          "base_uri": "https://localhost:8080/"
        },
        "id": "Y19KCTVGrazZ",
        "outputId": "9050cebc-2c68-4856-c9a8-dea28ff915c4"
      },
      "execution_count": 25,
      "outputs": [
        {
          "output_type": "execute_result",
          "data": {
            "text/plain": [
              "0.5454545454545454"
            ]
          },
          "metadata": {},
          "execution_count": 25
        }
      ]
    },
    {
      "cell_type": "code",
      "source": [
        "from scipy.stats import norm\n",
        "x = np.linspace(-0.1,0.1,num=100)\n",
        "plt.hist(retornos_d['EA'],bins = 20,density=True,histtype=\"bar\")\n",
        "plt.plot(x,norm.pdf(x,scale = retornos_d ['EA'].std()),'K')\n",
        "plt.axvline(retornos_d['EA'].mean(),color=\"Red\")\n",
        "plt.xlabel(\"Retornos\")\n",
        "plt.ylabel(\"Probabilidad\")"
      ],
      "metadata": {
        "colab": {
          "base_uri": "https://localhost:8080/",
          "height": 296
        },
        "id": "c-3vtVjmnKrn",
        "outputId": "4f078718-003d-486d-a178-9f0b3d1deee9"
      },
      "execution_count": 27,
      "outputs": [
        {
          "output_type": "execute_result",
          "data": {
            "text/plain": [
              "Text(0, 0.5, 'Probabilidad')"
            ]
          },
          "metadata": {},
          "execution_count": 27
        },
        {
          "output_type": "display_data",
          "data": {
            "text/plain": [
              "<Figure size 432x288 with 1 Axes>"
            ],
            "image/png": "[encoded data removed]"
          },
          "metadata": {
            "needs_background": "light"
          }
        }
      ]
    },
    {
      "cell_type": "code",
      "source": [
        "x = np.linspace(-0.1,0.1,num=100)\n",
        "plt.hist(retornos_d['DIS'],bins = 20,density=True,histtype=\"bar\")\n",
        "plt.plot(x,norm.pdf(x,scale = retornos_d ['DIS'].std()),'K')\n",
        "plt.axvline(retornos_d['DIS'].mean(),color=\"Red\")\n",
        "plt.xlabel(\"Retornos\")\n",
        "plt.ylabel(\"Probabilidad\")"
      ],
      "metadata": {
        "colab": {
          "base_uri": "https://localhost:8080/",
          "height": 296
        },
        "id": "Wm_C8OptpZwT",
        "outputId": "ab8d55ab-c7b7-402c-fc6a-c835ecace744"
      },
      "execution_count": 28,
      "outputs": [
        {
          "output_type": "execute_result",
          "data": {
            "text/plain": [
              "Text(0, 0.5, 'Probabilidad')"
            ]
          },
          "metadata": {},
          "execution_count": 28
        },
        {
          "output_type": "display_data",
          "data": {
            "text/plain": [
              "<Figure size 432x288 with 1 Axes>"
            ],
            "image/png": "[encoded data removed]"
          },
          "metadata": {
            "needs_background": "light"
          }
        }
      ]
    },
    {
      "cell_type": "markdown",
      "source": [
        "# Punto 2"
      ],
      "metadata": {
        "id": "wrl_GoBUfEfR"
      }
    },
    {
      "cell_type": "code",
      "source": [
        "Activos = [\"AAPL\", \"AMZN\",\"EA\",\"DIS\",\"ATVI\",\"ROL\",\"WBD\",\"KO\",\"TSLA\",\"AAL\"]\n",
        "Precios = yf.download(Activos,start=\"2017-12-01\",end=\"2022-12-31\",interval= \"1Mo\")[\"Adj Close\"]\n",
        "retornos = np.log(Precios/Precios.shift(1)).dropna()"
      ],
      "metadata": {
        "colab": {
          "base_uri": "https://localhost:8080/"
        },
        "id": "6nUsWdyHfId6",
        "outputId": "ff673787-a9e1-458c-d251-98f982dbace3"
      },
      "execution_count": 30,
      "outputs": [
        {
          "output_type": "stream",
          "name": "stdout",
          "text": [
            "[*********************100%***********************]  10 of 10 completed\n"
          ]
        }
      ]
    },
    {
      "cell_type": "code",
      "source": [
        "sigmav = retornos.std()\n",
        "sigmav"
      ],
      "metadata": {
        "colab": {
          "base_uri": "https://localhost:8080/"
        },
        "id": "tLIH-SVfGfxV",
        "outputId": "ce8e5fd7-f132-4c7e-dd83-508f44d37363"
      },
      "execution_count": 31,
      "outputs": [
        {
          "output_type": "execute_result",
          "data": {
            "text/plain": [
              "AAL     0.136396\n",
              "AAPL    0.092114\n",
              "AMZN    0.097632\n",
              "ATVI    0.092077\n",
              "DIS     0.092705\n",
              "EA      0.082204\n",
              "KO      0.057042\n",
              "ROL     0.074922\n",
              "TSLA    0.196036\n",
              "WBD     0.140951\n",
              "dtype: float64"
            ]
          },
          "metadata": {},
          "execution_count": 31
        }
      ]
    },
    {
      "cell_type": "code",
      "source": [
        "retornos.mean()"
      ],
      "metadata": {
        "colab": {
          "base_uri": "https://localhost:8080/"
        },
        "id": "Mse8LkuwuXUM",
        "outputId": "16ecbf9f-5a23-4590-ddd2-edb8111d16ee"
      },
      "execution_count": 32,
      "outputs": [
        {
          "output_type": "execute_result",
          "data": {
            "text/plain": [
              "AAL    -0.023050\n",
              "AAPL    0.019540\n",
              "AMZN    0.006037\n",
              "ATVI    0.003670\n",
              "DIS    -0.002953\n",
              "EA      0.002715\n",
              "KO      0.008096\n",
              "ROL     0.010445\n",
              "TSLA    0.029680\n",
              "WBD    -0.014316\n",
              "dtype: float64"
            ]
          },
          "metadata": {},
          "execution_count": 32
        }
      ]
    },
    {
      "cell_type": "markdown",
      "source": [
        "# Punto 3"
      ],
      "metadata": {
        "id": "DeLNAZxwyEbN"
      }
    },
    {
      "cell_type": "code",
      "source": [
        "activos = [\"^RUT\"]\n",
        "yf.pdr_override()\n",
        "precios = pdr.get_data_yahoo(activos,start=\"2011-12-01\",end=\"2022-12-31\",interval= \"1Mo\")[\"Adj Close\"]"
      ],
      "metadata": {
        "colab": {
          "base_uri": "https://localhost:8080/"
        },
        "id": "lB5kpOXsyJPP",
        "outputId": "ac4d1834-c323-4ac2-c08a-e78e35fb6a83"
      },
      "execution_count": 34,
      "outputs": [
        {
          "output_type": "stream",
          "name": "stdout",
          "text": [
            "\r[*********************100%***********************]  1 of 1 completed\n"
          ]
        }
      ]
    },
    {
      "cell_type": "code",
      "source": [
        "retornos = np.log(precios/precios.shift(1)).dropna()\n",
        "sigmam = retornos.std()\n",
        "sigmay = sigmam*np.sqrt(12)\n",
        "sigmam, sigmay"
      ],
      "metadata": {
        "colab": {
          "base_uri": "https://localhost:8080/"
        },
        "id": "dUEyYGmVygdB",
        "outputId": "8b8545c5-e36d-451d-fcdf-b9c364d86674"
      },
      "execution_count": 35,
      "outputs": [
        {
          "output_type": "execute_result",
          "data": {
            "text/plain": [
              "(0.05474479591479422, 0.18964153594882538)"
            ]
          },
          "metadata": {},
          "execution_count": 35
        }
      ]
    },
    {
      "cell_type": "code",
      "source": [
        "precios = pdr.get_data_yahoo(activos,start=\"2011-12-01\",end=\"2022-12-31\",interval= \"1Mo\")\n",
        "lnHL = np.log(precios[\"High\"]/precios[\"Low\"]).dropna()\n",
        "sigmaPark_m = ((1/(4*np.log(2)))*lnHL**2)**0.5\n",
        "sigmaPark_y = (sigmaPark_m.mean())*np.sqrt(12)\n",
        "sigmaPark_m, sigmaPark_y"
      ],
      "metadata": {
        "colab": {
          "base_uri": "https://localhost:8080/"
        },
        "id": "yNf3atZN0b7j",
        "outputId": "22706a34-3ccf-4949-b021-3df9839cd36c"
      },
      "execution_count": 36,
      "outputs": [
        {
          "output_type": "stream",
          "name": "stdout",
          "text": [
            "\r[*********************100%***********************]  1 of 1 completed\n"
          ]
        },
        {
          "output_type": "execute_result",
          "data": {
            "text/plain": [
              "(Date\n",
              " 2011-12-01    0.039045\n",
              " 2012-01-01    0.049605\n",
              " 2012-02-01    0.026554\n",
              " 2012-03-01    0.045991\n",
              " 2012-04-01    0.042529\n",
              "                 ...   \n",
              " 2022-08-01    0.058028\n",
              " 2022-09-01    0.086390\n",
              " 2022-10-01    0.073133\n",
              " 2022-11-01    0.048681\n",
              " 2022-12-01    0.058579\n",
              " Length: 133, dtype: float64, 0.1767113126308943)"
            ]
          },
          "metadata": {},
          "execution_count": 36
        }
      ]
    },
    {
      "cell_type": "code",
      "source": [
        "lnHL = np.log(precios[\"High\"]/precios[\"Low\"]).dropna()\n",
        "lnCO = np.log(precios[\"Close\"]/precios[\"Open\"]).dropna()\n",
        "sigmaGK_m = (0.5*lnHL**2-(2*np.log(2)-1)*lnCO**2)**0.5\n",
        "sigmaGK_y = (sigmaGK_m.mean())*np.sqrt(252)\n",
        "sigmaGK_m,sigmaGK_y"
      ],
      "metadata": {
        "colab": {
          "base_uri": "https://localhost:8080/"
        },
        "id": "n2mXlGLDUCb3",
        "outputId": "20facc15-4747-47d9-d192-0663a38b0be9"
      },
      "execution_count": 37,
      "outputs": [
        {
          "output_type": "execute_result",
          "data": {
            "text/plain": [
              "(Date\n",
              " 2011-12-01    0.045653\n",
              " 2012-01-01    0.047539\n",
              " 2012-02-01    0.029346\n",
              " 2012-03-01    0.052724\n",
              " 2012-04-01    0.049245\n",
              "                 ...   \n",
              " 2022-08-01    0.067750\n",
              " 2022-09-01    0.083748\n",
              " 2022-10-01    0.065267\n",
              " 2022-11-01    0.056867\n",
              " 2022-12-01    0.052694\n",
              " Length: 133, dtype: float64, 0.8318012040755021)"
            ]
          },
          "metadata": {},
          "execution_count": 37
        }
      ]
    },
    {
      "cell_type": "code",
      "source": [
        "def vol_ewma(retornos,Lambda):\n",
        "  Lambda = 0.94\n",
        "  k = len(retornos)\n",
        "  td = np.arange(k-1,-1,-1)\n",
        "  alpha = Lambda**td\n",
        "  var_s = (retornos**2*alpha).sum()*(1-Lambda)\n",
        "  vol_m = np.sqrt(var_s)\n",
        "  return(vol_m)"
      ],
      "metadata": {
        "id": "Qe25gLRH10S7"
      },
      "execution_count": 38,
      "outputs": []
    },
    {
      "cell_type": "code",
      "source": [
        "vol_m = vol_ewma(retornos,Lambda= 0.94)\n",
        "vol_y = vol_m*np.sqrt(12) \n",
        "vol_m , vol_y"
      ],
      "metadata": {
        "colab": {
          "base_uri": "https://localhost:8080/"
        },
        "id": "Y4r6MBqF2zD0",
        "outputId": "a1e95e76-1c48-46bb-9fdf-eb383ba6323b"
      },
      "execution_count": 39,
      "outputs": [
        {
          "output_type": "execute_result",
          "data": {
            "text/plain": [
              "(0.06830769009655513, 0.23662477958980582)"
            ]
          },
          "metadata": {},
          "execution_count": 39
        }
      ]
    }
  ]
}